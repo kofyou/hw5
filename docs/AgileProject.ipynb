{
 "cells": [
  {
   "cell_type": "markdown",
   "id": "87c29491",
   "metadata": {
    "slideshow": {
     "slide_type": "slide"
    }
   },
   "source": [
    "# HW5 Extension - The Cache Generator\n",
    "\n",
    "Mingsheng Xu\n",
    "\n",
    "[GitHub Repo](https://github.com/kofyou/hw5)"
   ]
  },
  {
   "cell_type": "markdown",
   "id": "0f3bf009",
   "metadata": {
    "slideshow": {
     "slide_type": "slide"
    }
   },
   "source": [
    "## Recall: What does your generator do and what is it for?\n",
    "Cache is used to accelerate memory access by exploiting spatial and temporal locality. The generator produces customizabla cache.\n",
    "\n",
    "## Recall: What parameters does it take?\n",
    "\n",
    "### Size Specifications:\n",
    "- Totol Capacity in Words \n",
    "- Block Size in Words\n",
    "- **Associativity**\n",
    "\n",
    "### Replacement Policies:\n",
    "- Round Robin or **LRU**"
   ]
  },
  {
   "cell_type": "markdown",
   "id": "bf10f603",
   "metadata": {
    "slideshow": {
     "slide_type": "slide"
    }
   },
   "source": [
    "## Project Features Finished by 3/14\n",
    "\n",
    "Compared to HW5:\n",
    "\n",
    "### Chisel Cache Associativity\n",
    "- [x] parameterize the associativity for Chisel module to support set-associative and fully-associative cache\n",
    "- [x] organize tests for different associativity\n",
    "    - heavily reused the test harness provided by HW5\n",
    "\n",
    "### Cache Replacement Policy\n",
    "- [x] parameterize the replacement policy for both Scala model and Chisel module to support LRU\n",
    "    - only one implementation is finished: each block maintains a relative order\n",
    "- [x] organize tests for different policies\n",
    "    - heavily reused the test harness provided by HW5\n",
    "\n",
    "## Features not finished by 3/14\n",
    "- [ ] only the fist Chisel LRU implementation is finished; the second is not\n",
    "- [ ] non-blocking cache"
   ]
  },
  {
   "cell_type": "markdown",
   "id": "b4c1a2f6",
   "metadata": {
    "slideshow": {
     "slide_type": "slide"
    }
   },
   "source": [
    "## Incremental Development\n",
    "\n",
    "### HW5: The Base Line\n",
    "\n",
    "1. Scala Model\n",
    "    - a direct-mapped cache\n",
    "    - a set-associative cache with round robin\n",
    "    - a set of tests\n",
    "\n",
    "2. Chisel Module\n",
    "    - a direct-mapped cache\n",
    "    - a set of tests"
   ]
  },
  {
   "cell_type": "markdown",
   "id": "8555323e",
   "metadata": {
    "slideshow": {
     "slide_type": "slide"
    }
   },
   "source": [
    "### Chisel General Cache\n",
    "Follow the ideas of our Scala model, the set-associative cache contains a set of direct-mapped cache.\n",
    "- benefit: the `tag`, `index`, and `offset` bits arrangement are the same\n",
    "\n",
    "Organize a (capacity=32, blockSize=4, associativity=4) cache as follows:\n",
    "\n",
    "|         | way 0        | way 1        | way 2        | way 3        |\n",
    "| ------- | ------------ | ------------ | ------------ | ------------ |\n",
    "| index 0 | ( )( )( )( ) | ( )( )( )( ) | ( )( )( )( ) | ( )( )( )( ) |\n",
    "| index 1 | ( )( )( )( ) | ( )( )( )( ) | ( )( )( )( ) | ( )( )( )( ) |\n",
    "| index 2 | ( )( )( )( ) | ( )( )( )( ) | ( )( )( )( ) | ( )( )( )( ) |\n",
    "| index 3 | ( )( )( )( ) | ( )( )( )( ) | ( )( )( )( ) | ( )( )( )( ) |\n",
    "| index 4 | ( )( )( )( ) | ( )( )( )( ) | ( )( )( )( ) | ( )( )( )( ) |\n",
    "| index 5 | **( )( )( )( )** | **( )( )( )( )** | **( )( )( )( )** | **( )( )( )( )** |\n",
    "| index 6 | ( )( )( )( ) | ( )( )( )( ) | ( )( )( )( ) | ( )( )( )( ) |\n",
    "| index 7 | ( )( )( )( ) | ( )( )( )( ) | ( )( )( )( ) | ( )( )( )( ) |\n"
   ]
  },
  {
   "cell_type": "markdown",
   "id": "f686eadd",
   "metadata": {
    "slideshow": {
     "slide_type": "slide"
    }
   },
   "source": [
    "- Refactor our direct-mapped cache into a way structure, `DMCacheWay`, use it for **storage**\n",
    "    - stores `tags`, `valids`, `data`\n",
    "    - outputs `tags`, `valid`, `data`, and `hit`\n",
    "    \n",
    "```Scala\n",
    "class DMCacheWay(p: CacheParams) extends Module {\n",
    "    val io = IO(new Bundle {\n",
    "        ...\n",
    "        val out = Valid(new Bundle {\n",
    "            val rTag = Output(UInt(p.numTagBits.W))\n",
    "            val rLine = CacheBlock()\n",
    "            val validLine = Output(Bool())\n",
    "            val hit = Output(Bool())\n",
    "        })\n",
    "    })\n",
    "    \n",
    "    val valids = RegInit(VecInit(Seq.fill(p.numSets)(false.B)))\n",
    "    val data = SyncReadMem(p.numSets, CacheBlock())\n",
    "    val tags = SyncReadMem(p.numSets, UInt(p.numTagBits.W))\n",
    "}\n",
    "```"
   ]
  },
  {
   "cell_type": "markdown",
   "id": "01857d57",
   "metadata": {
    "slideshow": {
     "slide_type": "slide"
    }
   },
   "source": [
    "- A new general cache class, `Gecache`, containing a set of ways, use it for **control**\n",
    "    - sends read/write requests to ways, handles external memory access\n",
    "\n",
    "```Scala\n",
    "class GeCache(p: CacheParams) extends Cache(p) {\n",
    "    val wayParams = p.copy(capacity=p.capacity/p.associativity, associativity = 1)\n",
    "    // collect their ios\n",
    "    val wayIOVec = VecInit(Seq.fill(p.associativity)(Module(new DMCacheWay(wayParams)).io))\n",
    "}\n",
    "```"
   ]
  },
  {
   "cell_type": "markdown",
   "id": "92cf8c8d",
   "metadata": {
    "slideshow": {
     "slide_type": "slide"
    }
   },
   "source": [
    "How does `Gecache` make decisions?\n",
    "\n",
    "- send requests to all ways\n",
    "\n",
    "```Scala\n",
    "        wayIOVec.foreach(wayio => wayio.in.valid := true.B)\n",
    "        wayIOVec.foreach(wayio => wayio.in.bits.addr := io.in.bits.addr)\n",
    "        wayIOVec.foreach(wayio => wayio.in.bits.write := false.B)\n",
    "```\n",
    "\n",
    "- hit\n",
    "\n",
    "```Scala\n",
    "        // collect all hit signals\n",
    "        val hitVec = wayIOVec.map(_.out.bits.hit)\n",
    "        // should be either one hit or no hit\n",
    "        io.hit := hitVec.reduce((hit1,hit2) => hit1 || hit2)\n",
    "```\n",
    "\n",
    "- locate the way\n",
    "\n",
    "```Scala\n",
    "        // tranlate one-hot to decimal index\n",
    "        val hitWayIndex = OHToUInt(hitVec)\n",
    "        // now we can index this specific way\n",
    "        wayIOVec(hitWayIndex)\n",
    "```"
   ]
  },
  {
   "cell_type": "markdown",
   "id": "1690a77e",
   "metadata": {
    "slideshow": {
     "slide_type": "slide"
    }
   },
   "source": [
    "### Fully-Associative Cache\n",
    "Now we successfully suport\n",
    "- the direct-mapped cache which contains a vec of one way\n",
    "- the set-associative cache\n",
    "\n",
    "What about the fully-associative cache?\n",
    "- [x] it should be a vec of several ways, each of which only has one block\n",
    "- [ ] it has no index bits\n",
    "\n",
    "So, for both the model and the modules, add a special case to properly index the only block\n",
    "```Scala\n",
    "    val index  =\n",
    "        // if not fully-associative\n",
    "        if (p.associativity * p.blockSize != p.capacity)\n",
    "            io.in.bits.addr(p.numOffsetBits + p.numIndexBits - 1, p.numOffsetBits)\n",
    "        else\n",
    "            0.U\n",
    "```"
   ]
  },
  {
   "cell_type": "markdown",
   "id": "50d7b48f",
   "metadata": {
    "slideshow": {
     "slide_type": "slide"
    }
   },
   "source": [
    "### General Cache Tests\n",
    "Most of the tests in HW5 are universl to different types of cache.\n",
    "- encapsulate\n",
    "- generalize trashing test\n",
    "- add a random access test\n",
    "\n",
    "```Scala\n",
    "    def performGeneralTest(p : CacheParams) = {\n",
    "        it should \"be able to read (miss, then hit) a block\"\n",
    "        it should \"be able to write miss then read hit a block\"\n",
    "        it should \"load in a block\"\n",
    "        it should \"be able to write to all words and then read all in cache\"\n",
    "        it should \"handle thrashing (different associativities behave different)\"\n",
    "        it should \"handle random accesses\" in {\n",
    "            val m = CacheModel(p)()\n",
    "            test(new GeCache(p)).withAnnotations(Seq(WriteVcdAnnotation)) { dut =>\n",
    "                for(round <- 0 until 2 * (1 << p.addrLen)) {\n",
    "                    // ref: https://stackoverflow.com/q/39402567/15670192\n",
    "                    // [0, 1 << p.addrLen)\n",
    "                    val addr = Random.between(0, 1 << p.addrLen)\n",
    "                    // [0, 1)\n",
    "                    val read = Random.between(0, 2)\n",
    "                    if (read == 1) {\n",
    "                        performReadTest(dut, m, addr)\n",
    "                    } else {\n",
    "                        performWriteTest(dut, m, addr, addr)\n",
    "                    }\n",
    "                }\n",
    "            }\n",
    "        }\n",
    "    }\n",
    "\n",
    "    behavior of \"Direct-Mapped GeneralCache\"\n",
    "    performGeneralTest(p = CacheParams(32, 4, 1))\n",
    "\n",
    "    behavior of \"Fully-Associative GeneralCache\"\n",
    "    performGeneralTest(p = CacheParams(32, 4, 8))\n",
    "\n",
    "    behavior of \"Set-Associative GeneralCache\"\n",
    "    performGeneralTest(p = CacheParams(32, 4, 2))\n",
    "```"
   ]
  },
  {
   "cell_type": "markdown",
   "id": "2fd0e95b",
   "metadata": {
    "slideshow": {
     "slide_type": "slide"
    }
   },
   "source": [
    "### Scala Model: Parameterize Replacement Policies\n",
    "\n",
    "Use inheritance:\n",
    "- need to find out an universal order of operations for all replacement policies so that interfaces fit in.\n",
    "\n",
    "```Scala\n",
    "abstract class SACacheModel(p: CacheParams, externalMem: ArrayBuffer[CacheBlockModel]) extends CacheModel(p, externalMem) {\n",
    "    def lookUpReplPolicy(index: Int): Int\n",
    "    def updatePolicyWhenMiss(addr: Int, wayIndex: Int): Unit\n",
    "    def updatePolicyWhenHit(addr: Int, wayIndex: Int): Unit\n",
    "    \n",
    "    def wayToReplace(addr: Int): Int = {\n",
    "        val (tag, index, offset) = findCacheAddressFields(addr)\n",
    "        if (the index still has empty ways) {\n",
    "            lookUpFillPolicy(index)\n",
    "        } else {\n",
    "            lookUpReplPolicy(index)\n",
    "        }\n",
    "    }\n",
    "    \n",
    "    def getReferenceToBlock(addr: Int): CacheBlockModel = {\n",
    "        if (isHit == false) {\n",
    "            // not hit: need too fill / replace a line\n",
    "            val wayReplaceIndex = wayToReplace(addr)\n",
    "            updatePolicyWhenMiss(addr, wayReplaceIndex)\n",
    "            ways(wayReplaceIndex).getReferenceToBlock(addr)\n",
    "        } else {\n",
    "            // hit: need to update according to the policy\n",
    "            updatePolicyWhenHit(addr, hitWayIndex)\n",
    "            ways(hitWayIndex).getReferenceToBlock(addr)\n",
    "        }\n",
    "    }\n",
    "}\n",
    "```"
   ]
  },
  {
   "cell_type": "markdown",
   "id": "ad303d9d",
   "metadata": {
    "slideshow": {
     "slide_type": "slide"
    }
   },
   "source": [
    "The LRU Scala model implements those interfaces:\n",
    "\n",
    "```Scala\n",
    "class SALRUCacheModel(p: CacheParams, externalMem: ArrayBuffer[CacheBlockModel]) extends SACacheModel(p, externalMem) {\n",
    "    val setWayUsage = Seq.fill(p.numSets)(ArrayBuffer.fill(p.associativity)(-1))\n",
    "\n",
    "    // return the oldest index of block (way)\n",
    "    def lookUpReplPolicy(index: Int): Int = {\n",
    "        setWayUsage(index).indexOf(setWayUsage(index).max)\n",
    "    }\n",
    "\n",
    "    // uniformly update ranks\n",
    "    def updateReplPolicy(index: Int, wayIndex: Int): Unit = {\n",
    "        val theRank = setWayUsage(index)(wayIndex)\n",
    "        for (wi <- 0 until p.associativity) {\n",
    "            if (setWayUsage(index)(wi) < theRank) {\n",
    "                setWayUsage(index)(wi) += 1\n",
    "            }\n",
    "        }\n",
    "        setWayUsage(index)(wayIndex) = 0\n",
    "    }\n",
    "\n",
    "    def updatePolicyWhenMiss(addr: Int, wayIndex: Int): Unit = {\n",
    "        val (tag, index, offset) = findCacheAddressFields(addr)\n",
    "        updateReplPolicy(index, wayIndex)\n",
    "        if (fillIndices(index) < p.associativity) {\n",
    "            updateFillPolicy(index)\n",
    "        }\n",
    "    }\n",
    "\n",
    "    def updatePolicyWhenHit(addr: Int, wayIndex: Int): Unit = {\n",
    "        val (tag, index, offset) = findCacheAddressFields(addr)\n",
    "        updateReplPolicy(index, wayIndex)\n",
    "    }\n",
    "}\n",
    "```"
   ]
  },
  {
   "cell_type": "markdown",
   "id": "583bd1d2",
   "metadata": {
    "slideshow": {
     "slide_type": "slide"
    }
   },
   "source": [
    "### Scala Model: LRU Under the Hood\n",
    "\n",
    "Each block has a relative order. Consider the ways under a given index:\n",
    "\n",
    "- **When a block is filled up the first time**\n",
    "    - set it to 0\n",
    "    - for any former blocks, increment\n",
    "    \n",
    "| Before Filling Up                                                   | After Filling Up                                                    |\n",
    "| ------------------------------------------------------------ | ------------------------------------------------------------ |\n",
    "| block0: 4<br />block1: 3<br />block2: 2<br />block3: 1<br />block4: 0<br /><font color='red'>block5: -1</font><br />block6: -1<br />block7: -1 | block0: 5<br />block1: 4<br />block2: 3<br />block3: 2<br />block4: 1<br /><font color='red'>block5: 0</font><br />block6: -1<br />block7: -1 |\n",
    "\n",
    "- **When a block hits: raise it**\n",
    "    - set it to 0\n",
    "    - for any blocks that are younger, increment\n",
    "    - same when a new block replaces an old block\n",
    "\n",
    "| Before Hit                                                   | After Hit                                                    |\n",
    "| ------------------------------------------------------------ | ------------------------------------------------------------ |\n",
    "| **block0: 3**<br />**block1: 0**<br />block2: 7<br />**block3: 1**<br />**block4: 4**<br /><font color='red'>block5: 5</font><br />**block6: 2**<br />block7: 6 | **block0: 4**<br />**block1: 1**<br />block2: 7<br />**block3: 2**<br />**block4: 5**<br /><font color='red'>block5: 0</font><br />**block6: 3**<br />block7: 6 |\n"
   ]
  },
  {
   "cell_type": "markdown",
   "id": "366f1934",
   "metadata": {
    "slideshow": {
     "slide_type": "slide"
    }
   },
   "source": [
    "- **Test**\n",
    "\n",
    "```Scala\n",
    "    it should \"replace first half non-valid, update order, replace second half, and then evict the eldest\" in {\n",
    "        val p = CacheParams(128, 4, 4)\n",
    "        val m = CacheModel(p, \"LRU\")()\n",
    "\n",
    "        // fill up first half blocks in a set in order\n",
    "        for (w <- 0 until p.associativity / 2) {\n",
    "            val addr = w * p.numSets * p.blockSize\n",
    "            assert(m.wayToReplace(addr) == w)\n",
    "            testRead(m, addr, 0, false)\n",
    "        }\n",
    "\n",
    "        // age: 1,0,4,4 -> 1,0,4,4 -> 0,1,4,4\n",
    "        for (w <- p.associativity / 2 - 1 to 0 by -1) {\n",
    "            val addr = w * p.numSets * p.blockSize\n",
    "            testRead(m, addr, 0, true)\n",
    "            assert(m.wayToReplace(addr) == p.associativity / 2)\n",
    "        }\n",
    "\n",
    "        // fill up second half blocks in a set in order\n",
    "        // age: 0,1,4,4 -> 1,2,0,4 -> 2,3,1,0\n",
    "        for (w <- p.associativity / 2 until p.associativity) {\n",
    "            // line in one set are not continuous babe\n",
    "            val addr = w * p.numSets * p.blockSize\n",
    "            assert(m.wayToReplace(addr) == w)\n",
    "            testRead(m, addr, 0, false)\n",
    "        }\n",
    "\n",
    "        // replace index 1,0,2,3 in order\n",
    "        val evictSeq = Seq(1,0,2,3)\n",
    "        for (w <- 0 until p.associativity) {\n",
    "            // add capacity, so tags are different\n",
    "            val addr = w * p.numSets * p.blockSize + p.capacity\n",
    "            assert(m.wayToReplace(addr) == evictSeq(w))\n",
    "            testRead(m, addr, 0, false)\n",
    "        }\n",
    "    }\n",
    "```"
   ]
  },
  {
   "cell_type": "markdown",
   "id": "feb5a55d",
   "metadata": {
    "slideshow": {
     "slide_type": "slide"
    }
   },
   "source": [
    "### Chisel Module: LRU Under the Hood\n",
    "\n",
    "- **Same implementation as the Scala model:**\n",
    "    - each block needs log2Ceil(p.associativity) bits\n",
    "    - and a bunch of comparators, adds, and muxes\n",
    "\n",
    "```Scala\n",
    "class GeLRUCache(p: CacheParams) extends GeCache(p) {\n",
    "    // ref: https://stackoverflow.com/questions/61052153/how-to-get-the-index-of-max-element-in-uint-vec-chisel\n",
    "    \n",
    "    // get eldest index\n",
    "    def getReplIndex(): UInt = {\n",
    "        LRURelativeOrder(index).indexWhere(age => age === (p.associativity - 1).U)\n",
    "    }\n",
    "\n",
    "    // compare with the selected way and update order\n",
    "    def updatePolicy(wayIndex: UInt): Unit = {\n",
    "        LRURelativeOrder(index).foreach(age => age := Mux(age < LRURelativeOrder(index)(wayIndex), age + 1.U, age))\n",
    "        LRURelativeOrder(index)(wayIndex) := 0.U\n",
    "    }\n",
    "}\n",
    "```"
   ]
  },
  {
   "cell_type": "markdown",
   "id": "6e3f980f",
   "metadata": {
    "slideshow": {
     "slide_type": "slide"
    }
   },
   "source": [
    "- \n",
    "    - test different combinations\n",
    "\n",
    "```Scala\n",
    "    def performGeneralTestParams(p: CacheParams) = {\n",
    "        behavior of \"roundRobin Direct-Mapped GeCache General Functionality\"\n",
    "        performGeneralTest(p, replPolicy = \"roundRobin\")\n",
    "\n",
    "        behavior of \"roundRobin Fully-Associative GeCache General Functionality\"\n",
    "        performGeneralTest(p.copy(associativity = p.numSets), replPolicy = \"roundRobin\")\n",
    "\n",
    "        behavior of \"roundRobin Set-Associative GeCache General Functionality\"\n",
    "        performGeneralTest(p.copy(associativity = p.numSets / 2), replPolicy = \"roundRobin\")\n",
    "\n",
    "        behavior of \"LRU Direct-Mapped GeCache General Functionality\"\n",
    "        performGeneralTest(p, replPolicy = \"LRU\")\n",
    "\n",
    "        behavior of \"LRU Fully-Associative GeCache General Functionality\"\n",
    "        performGeneralTest(p.copy(associativity = p.numSets), replPolicy = \"LRU\")\n",
    "\n",
    "        behavior of \"LRU Set-Associative GeCache General Functionality\"\n",
    "        performGeneralTest(p.copy(associativity = p.numSets / 2), replPolicy = \"LRU\")\n",
    "    }\n",
    "\n",
    "    behavior of \"GeCache CacheParams(32, 4, x)\"\n",
    "    performGeneralTestParams(p = CacheParams(32, 4, 1))\n",
    "```"
   ]
  },
  {
   "cell_type": "markdown",
   "id": "c262d6df",
   "metadata": {
    "slideshow": {
     "slide_type": "slide"
    }
   },
   "source": [
    "- **Alternative: Example on 3-way (for simplicity) permutations and states**\n",
    "    - each index has a state, denoting a certain permutation: log2Ceil(3!) bits for a state\n",
    "\n",
    "| States   | Permutations |\n",
    "| ---- | ------------ |\n",
    "| 0    | 0 1 2        |\n",
    "| 1    | 0 2 1        |\n",
    "| 2    | 1 0 2       |\n",
    "| 3    | 1 2 0        |\n",
    "| 4    | 2 0 1        |\n",
    "| 5    | 2 1 0        |\n",
    "\n",
    "- \n",
    "    - all indexes share a single state transition lookup table: 3 * log2Ceil(3!) bits for an entry\n",
    "\n",
    "| States   | Permutations | Access 0 | Access 1 | Access 2 |\n",
    "| ---- | ------------ | -------- | -------- | -------- |\n",
    "| 0    | 0 1 2        | 0 1 2: 0 | 1 0 2: 2 | 2 1 0: 5 |\n",
    "| 1    | 0 2 1        |          |          |          |\n",
    "| 2    | 1 0 2        |          |          |          |\n",
    "| 3    | 1 2 0        |          |          |          |\n",
    "| 4    | 2 0 1        |          |          |          |\n",
    "| 5    | 2 1 0        | 0 2 1: 1 | 2 0 1: 4 | 2 1 0: 5 |"
   ]
  },
  {
   "cell_type": "markdown",
   "id": "2c4c1262",
   "metadata": {
    "slideshow": {
     "slide_type": "slide"
    }
   },
   "source": [
    "- \n",
    "    - all indexes share a single permutation-eldest lookup table: log2Ceil(3) bits for an entry\n",
    "\n",
    "| States   | Permutations | Eldest Blocks |\n",
    "| ---- | ------------ | ------------- |\n",
    "| 0    | 0 1 2        | 2             |\n",
    "| 1    | 0 2 1        | 1             |\n",
    "| 2    | 1 0 2        | 2             |\n",
    "| 3    | 1 2 0        | 1             |\n",
    "| 4    | 2 0 1        | 0             |\n",
    "| 5    | 2 1 0        | 0             |\n",
    "\n",
    "- \n",
    "    - only states are stored in hardware; permutations are used only when populating the tables in Scala"
   ]
  },
  {
   "cell_type": "markdown",
   "id": "86448772",
   "metadata": {
    "slideshow": {
     "slide_type": "slide"
    }
   },
   "source": [
    "- **The trade-offs and (potential) parameterization**\n",
    "    - 32KB, 4B block => 8K blocks in total\n",
    "\n",
    "|       | Per-Block Order                                             | State Machine                                                |\n",
    "| ----- | ----------------------------------------------------------- | ------------------------------------------------------------ |\n",
    "| 2-way | 8K * log2Ceil(2) = **8K bits**<br />extra arithmetic units  | for states:<br />8K / 2 \\* log2Ceil(2!) = 4K bits<br />for transitions:<br />2! \\* 2 \\* log2Ceil(2!) = 4 bits<br />for translates:<br />2! \\* log2Ceil(2) = 4 bits<br />in total:<br />**(4K + 8) bits** |\n",
    "| 4-way | 8K * log2Ceil(4) = **16K bits**<br />extra arithmetic units | for states:<br />8K / 4 \\* log2Ceil(4!) = 10K bits<br />for transitions:<br />4! \\* 4 \\* log2Ceil(4!) = 480 bits<br />for translates:<br />4! \\* log2Ceil(4) = 48 bits<br />in total:<br />**(10K + 528) bits** |\n",
    "| 8-way | 8K * log2Ceil(8) = **24K bits**<br />extra arithmetic units | for states:<br />8K / 8 \\* log2Ceil(8!) = 16K bits<br />for transitions:<br />8! \\* 8 \\* log2Ceil(8!) = 5160960 bits = 5040K bits<br />for translates:<br />8! \\* log2Ceil(8) = 120960 bits = 118.125K bits<br />in total:<br />**5174.125K bits** |\n",
    "\n",
    "- \n",
    "    - factorial growth is drastic, but fortunately associativity might not be too big\n",
    "    - special case: a victime cache\n",
    "    - **conlcusion**: could parameterize the LRU implementation and hand-over the trade-offs to users"
   ]
  },
  {
   "cell_type": "markdown",
   "id": "cc3a6f27",
   "metadata": {
    "slideshow": {
     "slide_type": "slide"
    }
   },
   "source": [
    "## Project Completeness:\n",
    "\n",
    "Features not finished by 3/14:\n",
    "- [ ] only the fist Chisel LRU implementation is finished; the second is not\n",
    "- [ ] non-blocking cache(?)"
   ]
  },
  {
   "cell_type": "markdown",
   "id": "9cf087ab",
   "metadata": {
    "slideshow": {
     "slide_type": "slide"
    }
   },
   "source": [
    "## Ackownledgements:\n",
    "- Thanks Professor Beamer and Amogh for lectures, HW5, and office hours\n",
    "- Thanks Professor Litz for preparing me for this project\n",
    "\n",
    "- [How to change color in markdown cells ipython/jupyter notebook?](https://stackoverflow.com/questions/19746350/how-to-change-color-in-markdown-cells-ipython-jupyter-notebook)\n",
    "- [How to create a array/vec of Chisel modules](https://stackoverflow.com/questions/62809878/how-to-create-a-array-vec-of-chisel-modules)\n",
    "- [How to do a vector of modules?](https://stackoverflow.com/questions/33621533/how-to-do-a-vector-of-modules)\n",
    "- [How to get the Index of Max element in UInt Vec , Chisel](https://stackoverflow.com/questions/61052153/how-to-get-the-index-of-max-element-in-uint-vec-chisel)"
   ]
  },
  {
   "cell_type": "markdown",
   "id": "9d19d780",
   "metadata": {
    "slideshow": {
     "slide_type": "slide"
    }
   },
   "source": [
    "## If I am on time...\n",
    "\n",
    "1. Any interesting uses of inheritance or functional programming?\n",
    "\n",
    "    This one on finding an empty block has not been covered by previous slides:\n",
    "```Scala\n",
    "        val invalidVec = wayIOVec.map(!_.out.bits.validLine)\n",
    "        val atLeastOneInvalid = invalidVec.reduce((invalid1, invalid2) => invalid1 || invalid2)\n",
    "        when (atLeastOneInvalid) {\n",
    "            // https://www.chisel-lang.org/api/latest/chisel3/util/PriorityEncoder$.html\n",
    "            replWayIndexWire := PriorityEncoder(invalidVec)\n",
    "            ...\n",
    "        }\n",
    "```\n",
    "\n",
    "2. Things you learned along the way\n",
    "    - when to use Scala Seq and Chisel Vec (Thanks Professor Beamer and Jack!)\n",
    "    - how to interact with a set of modules\n",
    "    - possible implementations of LRU\n",
    "    - practices on inheritence and tests\n",
    "\n",
    "3. Advice for future students of the course\n",
    "    - start early and use the slip days reasonably!"
   ]
  }
 ],
 "metadata": {
  "celltoolbar": "Slideshow",
  "kernelspec": {
   "display_name": "Scala",
   "language": "scala",
   "name": "scala"
  },
  "language_info": {
   "codemirror_mode": "text/x-scala",
   "file_extension": ".sc",
   "mimetype": "text/x-scala",
   "name": "scala",
   "nbconvert_exporter": "script",
   "version": "2.13.4"
  }
 },
 "nbformat": 4,
 "nbformat_minor": 5
}
